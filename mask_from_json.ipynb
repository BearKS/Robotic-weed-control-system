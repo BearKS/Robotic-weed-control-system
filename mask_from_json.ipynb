{
 "cells": [
  {
   "cell_type": "code",
   "execution_count": 3,
   "metadata": {},
   "outputs": [],
   "source": [
    "import json\n",
    "import os\n",
    "import numpy as np\n",
    "import PIL.Image\n",
    "import cv2\n",
    "import matplotlib.pyplot as plt       "
   ]
  },
  {
   "cell_type": "code",
   "execution_count": 5,
   "metadata": {},
   "outputs": [
    {
     "name": "stdout",
     "output_type": "stream",
     "text": [
      "['0.jpg', '1.jpg', '10.jpg', '100.jpg', '101.jpg', '102.jpg', '103.jpg', '104.jpg', '105.jpg', '106.jpg', '107.jpg', '108.jpg', '109.jpg', '11.jpg', '110.jpg', '111.jpg', '112.jpg', '113.jpg', '114.jpg', '115.jpg', '116.jpg', '117.jpg', '118.jpg', '119.jpg', '12.jpg', '120.jpg', '121.jpg', '122.jpg', '123.jpg', '124.jpg', '125.jpg', '126.jpg', '127.jpg', '128.jpg', '129.jpg', '13.jpg', '130.jpg', '131.jpg', '132.jpg', '133.jpg', '134.jpg', '135.jpg', '136.jpg', '137.jpg', '138.jpg', '139.jpg', '14.jpg', '140.jpg', '141.jpg', '142.jpg', '143.jpg', '144.jpg', '145.jpg', '146.jpg', '147.jpg', '148.jpg', '149.jpg', '15.jpg', '150.jpg', '151.jpg', '152.jpg', '153.jpg', '154.jpg', '155.jpg', '156.jpg', '157.jpg', '158.jpg', '159.jpg', '16.jpg', '160.jpg', '161.jpg', '162.jpg', '163.jpg', '164.jpg', '165.jpg', '166.jpg', '167.jpg', '168.jpg', '169.jpg', '17.jpg', '170.jpg', '171.jpg', '172.jpg', '173.jpg', '174.jpg', '175.jpg', '176.jpg', '177.jpg', '178.jpg', '179.jpg', '18.jpg', '180.jpg', '181.jpg', '182.jpg', '19.jpg', '2.jpg', '20.jpg', '21.jpg', '22.jpg', '23.jpg', '24.jpg', '25.jpg', '26.jpg', '27.jpg', '28.jpg', '29.jpg', '3.jpg', '30.jpg', '31.jpg', '32.jpg', '33.jpg', '34.jpg', '35.jpg', '36.jpg', '37.jpg', '38.jpg', '39.jpg', '4.jpg', '40.jpg', '41.jpg', '42.jpg', '43.jpg', '44.jpg', '45.jpg', '46.jpg', '47.jpg', '48.jpg', '49.jpg', '5.jpg', '50.jpg', '51.jpg', '52.jpg', '53.jpg', '54.jpg', '55.jpg', '56.jpg', '57.jpg', '58.jpg', '59.jpg', '6.jpg', '60.jpg', '61.jpg', '62.jpg', '63.jpg', '64.jpg', '65.jpg', '66.jpg', '67.jpg', '68.jpg', '69.jpg', '7.jpg', '70.jpg', '71.jpg', '72.jpg', '73.jpg', '74.jpg', '75.jpg', '76.jpg', '77.jpg', '78.jpg', '79.jpg', '8.jpg', '80.jpg', '81.jpg', '82.jpg', '83.jpg', '84.jpg', '85.jpg', '86.jpg', '87.jpg', '88.jpg', '89.jpg', '9.jpg', '90.jpg', '91.jpg', '92.jpg', '93.jpg', '94.jpg', '95.jpg', '96.jpg', '97.jpg', '98.jpg', '99.jpg', 'via_region_data.json']\n"
     ]
    }
   ],
   "source": [
    "with open(\"dataset_updated/train/via_region_data.json\", \"r\") as read_file:\n",
    "    data = json.load(read_file)\n",
    "\n",
    "all_file_names=list(data.keys())\n",
    "\n",
    "Files_in_directory = []\n",
    "for root, dirs, files in os.walk(\"dataset_updated/train\"):\n",
    "    for filename in files:\n",
    "        Files_in_directory.append(filename)\n",
    "print(Files_in_directory)       \n",
    "for j in range(len(all_file_names)): \n",
    "    image_name=data[all_file_names[j]]['filename']\n",
    "    if image_name in Files_in_directory: \n",
    "         img = np.asarray(PIL.Image.open('dataset_updated/train/'+image_name))    \n",
    "    else:\n",
    "        continue\n",
    "    \n",
    "    if data[all_file_names[j]]['regions'] != {}:\n",
    "        #cv2.imwrite('images/%05.0f' % j +'.jpg',img)\n",
    "        # print(j)\n",
    "        try: \n",
    "             shape1_x=data[all_file_names[j]]['regions']['0']['shape_attributes']['all_points_x']\n",
    "             shape1_y=data[all_file_names[j]]['regions']['0']['shape_attributes']['all_points_y']\n",
    "        except : \n",
    "             shape1_x=data[all_file_names[j]]['regions'][0]['shape_attributes']['all_points_x']\n",
    "             shape1_y=data[all_file_names[j]]['regions'][0]['shape_attributes']['all_points_y']\n",
    "    \n",
    "        # fig = plt.figure()\n",
    "      \n",
    "        # plt.imshow(img.astype(np.uint8)) \n",
    "        # plt.scatter(shape1_x,shape1_y,zorder=2,color='red',marker = '.', s= 55)\n",
    "        \n",
    "\n",
    "        ab=np.stack((shape1_x, shape1_y), axis=1)\n",
    "        \n",
    "        img2=cv2.drawContours(img, [ab], -1, (255,255,255), -1)\n",
    "       \n",
    "        \n",
    "        \n",
    "        mask = np.zeros((img.shape[0],img.shape[1]))\n",
    "        img3=cv2.drawContours(mask, [ab], -1, 255, -1)\n",
    "        \n",
    "        cv2.imwrite('dataset_updated/' + str(j) +'.png',mask.astype(np.uint8))\n",
    "        \n"
   ]
  }
 ],
 "metadata": {
  "kernelspec": {
   "display_name": "Project",
   "language": "python",
   "name": "python3"
  },
  "language_info": {
   "codemirror_mode": {
    "name": "ipython",
    "version": 3
   },
   "file_extension": ".py",
   "mimetype": "text/x-python",
   "name": "python",
   "nbconvert_exporter": "python",
   "pygments_lexer": "ipython3",
   "version": "3.9.13"
  },
  "orig_nbformat": 4,
  "vscode": {
   "interpreter": {
    "hash": "c13d060a5faf9e436830cff397d22bccb32b4a14988ee1b5efb7b29874ec6cb4"
   }
  }
 },
 "nbformat": 4,
 "nbformat_minor": 2
}

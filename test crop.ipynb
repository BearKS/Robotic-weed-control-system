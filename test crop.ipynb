{
 "cells": [
  {
   "cell_type": "code",
   "execution_count": 16,
   "metadata": {},
   "outputs": [],
   "source": [
    "import os\n",
    "import numpy as np\n",
    "import matplotlib as plt\n",
    "import cv2\n",
    "from glob import glob\n",
    "from skimage.measure import label, regionprops, find_contours\n"
   ]
  },
  {
   "cell_type": "code",
   "execution_count": 33,
   "metadata": {},
   "outputs": [
    {
     "ename": "error",
     "evalue": "OpenCV(4.6.0) D:\\a\\opencv-python\\opencv-python\\opencv\\modules\\highgui\\src\\window.cpp:1267: error: (-2:Unspecified error) The function is not implemented. Rebuild the library with Windows, GTK+ 2.x or Cocoa support. If you are on Ubuntu or Debian, install libgtk2.0-dev and pkg-config, then re-run cmake or configure script in function 'cvShowImage'\n",
     "output_type": "error",
     "traceback": [
      "\u001b[1;31m---------------------------------------------------------------------------\u001b[0m",
      "\u001b[1;31merror\u001b[0m                                     Traceback (most recent call last)",
      "Cell \u001b[1;32mIn [33], line 2\u001b[0m\n\u001b[0;32m      1\u001b[0m images \u001b[39m=\u001b[39m cv2\u001b[39m.\u001b[39mimread(\u001b[39m'\u001b[39m\u001b[39maaa.jpg\u001b[39m\u001b[39m'\u001b[39m)\n\u001b[1;32m----> 2\u001b[0m roi \u001b[39m=\u001b[39m cv2\u001b[39m.\u001b[39;49mselectROI(images)\n\u001b[0;32m      3\u001b[0m cv2\u001b[39m.\u001b[39mimshow(roi)\n",
      "\u001b[1;31merror\u001b[0m: OpenCV(4.6.0) D:\\a\\opencv-python\\opencv-python\\opencv\\modules\\highgui\\src\\window.cpp:1267: error: (-2:Unspecified error) The function is not implemented. Rebuild the library with Windows, GTK+ 2.x or Cocoa support. If you are on Ubuntu or Debian, install libgtk2.0-dev and pkg-config, then re-run cmake or configure script in function 'cvShowImage'\n"
     ]
    }
   ],
   "source": [
    "\n",
    "images = cv2.imread('aaa.jpg')\n",
    "roi = cv2.selectROI(images)\n",
    "cv2.imshow('eee',roi)"
   ]
  },
  {
   "cell_type": "code",
   "execution_count": 7,
   "metadata": {},
   "outputs": [],
   "source": [
    "# \"\"\" Creating a directory \"\"\"\n",
    "# def create_dir(path):\n",
    "#     if not os.path.exists(path):\n",
    "#         os.makedirs(path)\n",
    "\n",
    "# \"\"\" Convert a mask to border image \"\"\"\n",
    "# def mask_to_border(mask):\n",
    "#     h, w = mask.shape\n",
    "#     border = np.zeros((h, w))\n",
    "\n",
    "#     contours = find_contours(mask, 128)\n",
    "#     for contour in contours:\n",
    "#         for c in contour:\n",
    "#             x = int(c[0])\n",
    "#             y = int(c[1])\n",
    "#             border[x][y] = 255\n",
    "\n",
    "#     return border\n",
    "\n",
    "# \"\"\" Mask to bounding boxes \"\"\"\n",
    "# def mask_to_bbox(mask):\n",
    "#     bboxes = []\n",
    "\n",
    "#     mask = mask_to_border(mask)\n",
    "#     lbl = label(mask)\n",
    "#     props = regionprops(lbl)\n",
    "#     for prop in props:\n",
    "#         x1 = prop.bbox[1]\n",
    "#         y1 = prop.bbox[0]\n",
    "\n",
    "#         x2 = prop.bbox[3]\n",
    "#         y2 = prop.bbox[2]\n",
    "\n",
    "#         bboxes.append([x1, y1, x2, y2])\n",
    "\n",
    "#     return bboxes\n",
    "\n",
    "# def parse_mask(mask):\n",
    "#     mask = np.expand_dims(mask, axis=-1)\n",
    "#     mask = np.concatenate([mask, mask, mask], axis=-1)\n",
    "#     return mask\n",
    "\n"
   ]
  },
  {
   "cell_type": "code",
   "execution_count": 32,
   "metadata": {},
   "outputs": [
    {
     "name": "stdout",
     "output_type": "stream",
     "text": [
      "[[[133 115 102]\n",
      "  [133 115 102]\n",
      "  [134 110 114]\n",
      "  ...\n",
      "  [131 167 209]\n",
      "  [128 158 210]\n",
      "  [124 154 206]]\n",
      "\n",
      " [[132 116 103]\n",
      "  [130 114 101]\n",
      "  [132 108 112]\n",
      "  ...\n",
      "  [138 161 214]\n",
      "  [129 155 208]\n",
      "  [123 149 202]]\n",
      "\n",
      " [[127 112 110]\n",
      "  [126 111 109]\n",
      "  [131 107 111]\n",
      "  ...\n",
      "  [137 162 217]\n",
      "  [128 158 210]\n",
      "  [122 152 204]]\n",
      "\n",
      " ...\n",
      "\n",
      " [[255 255 255]\n",
      "  [255 255 255]\n",
      "  [255 255 251]\n",
      "  ...\n",
      "  [137 143 174]\n",
      "  [127 135 166]\n",
      "  [127 135 166]]\n",
      "\n",
      " [[255 255 255]\n",
      "  [255 255 255]\n",
      "  [255 255 252]\n",
      "  ...\n",
      "  [128 133 166]\n",
      "  [121 128 161]\n",
      "  [115 122 155]]\n",
      "\n",
      " [[255 255 255]\n",
      "  [255 255 255]\n",
      "  [255 255 251]\n",
      "  ...\n",
      "  [120 125 156]\n",
      "  [118 119 150]\n",
      "  [114 115 147]]]\n"
     ]
    }
   ],
   "source": [
    "\n",
    "# \"\"\" Load the dataset \"\"\"\n",
    "# im = cv2.imread('x.png', cv2.IMREAD_COLOR)\n",
    "# masks = cv2.imread('aaa.jpg', cv2.IMREAD_GRAYSCALE)\n",
    "# print(im)\n"
   ]
  },
  {
   "cell_type": "code",
   "execution_count": 23,
   "metadata": {},
   "outputs": [],
   "source": [
    " \n",
    "contours, hierarchy = cv2.findContours(masks,cv2.RETR_LIST,cv2.CHAIN_APPROX_SIMPLE)[-2:]\n",
    "idx =0 \n",
    "for cnt in contours:\n",
    "    idx += 1\n",
    "    x,y,w,h = cv2.boundingRect(cnt)\n",
    "    roi=im[y:y+h,x:x+w]\n",
    "    cv2.imwrite(str(idx) + '.jpg', roi)\n",
    "    #cv2.rectangle(im,(x,y),(x+w,y+h),(200,0,0),2)\n"
   ]
  },
  {
   "cell_type": "code",
   "execution_count": 29,
   "metadata": {},
   "outputs": [
    {
     "ename": "error",
     "evalue": "OpenCV(4.6.0) D:\\a\\opencv-python\\opencv-python\\opencv\\modules\\highgui\\src\\window.cpp:1267: error: (-2:Unspecified error) The function is not implemented. Rebuild the library with Windows, GTK+ 2.x or Cocoa support. If you are on Ubuntu or Debian, install libgtk2.0-dev and pkg-config, then re-run cmake or configure script in function 'cvShowImage'\n",
     "output_type": "error",
     "traceback": [
      "\u001b[1;31m---------------------------------------------------------------------------\u001b[0m",
      "\u001b[1;31merror\u001b[0m                                     Traceback (most recent call last)",
      "Cell \u001b[1;32mIn [29], line 1\u001b[0m\n\u001b[1;32m----> 1\u001b[0m cv2\u001b[39m.\u001b[39;49mimshow(\u001b[39m'\u001b[39;49m\u001b[39mim[1]\u001b[39;49m\u001b[39m'\u001b[39;49m,im)\n\u001b[0;32m      2\u001b[0m cv2\u001b[39m.\u001b[39mwaitKey(\u001b[39m0\u001b[39m)\n",
      "\u001b[1;31merror\u001b[0m: OpenCV(4.6.0) D:\\a\\opencv-python\\opencv-python\\opencv\\modules\\highgui\\src\\window.cpp:1267: error: (-2:Unspecified error) The function is not implemented. Rebuild the library with Windows, GTK+ 2.x or Cocoa support. If you are on Ubuntu or Debian, install libgtk2.0-dev and pkg-config, then re-run cmake or configure script in function 'cvShowImage'\n"
     ]
    }
   ],
   "source": [
    "\n",
    "cv2.waitKey(0)"
   ]
  },
  {
   "cell_type": "code",
   "execution_count": null,
   "metadata": {},
   "outputs": [],
   "source": []
  }
 ],
 "metadata": {
  "kernelspec": {
   "display_name": "Python 3.9.13 64-bit",
   "language": "python",
   "name": "python3"
  },
  "language_info": {
   "codemirror_mode": {
    "name": "ipython",
    "version": 3
   },
   "file_extension": ".py",
   "mimetype": "text/x-python",
   "name": "python",
   "nbconvert_exporter": "python",
   "pygments_lexer": "ipython3",
   "version": "3.9.13"
  },
  "orig_nbformat": 4,
  "vscode": {
   "interpreter": {
    "hash": "102c7600e94806a90d120b51073e62bc557994825d383f16dac728451973ffbe"
   }
  }
 },
 "nbformat": 4,
 "nbformat_minor": 2
}

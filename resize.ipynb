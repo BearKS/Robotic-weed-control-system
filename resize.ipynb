{
 "cells": [
  {
   "cell_type": "code",
   "execution_count": 4,
   "metadata": {},
   "outputs": [],
   "source": [
    "from PIL import Image\n",
    "\n",
    "def make_square(im, min_size=3072, fill_color=(0, 0, 0, 0)):\n",
    "    x, y = im.size\n",
    "    size = max(min_size, y)\n",
    "    new_im = Image.new('RGBA', (x, size), fill_color)\n",
    "    new_im.paste(im, (int((x - x) / 2), int((size - y) / 2)))\n",
    "    return new_im"
   ]
  },
  {
   "cell_type": "code",
   "execution_count": 7,
   "metadata": {},
   "outputs": [
    {
     "name": "stdout",
     "output_type": "stream",
     "text": [
      "Using glob.glob()\n"
     ]
    }
   ],
   "source": [
    "import glob\n",
    "import cv2\n",
    "\n",
    "# Returns a list of names in list files.\n",
    "print(\"Using glob.glob()\")\n",
    "files = glob.glob('predataset/**/*.png', \n",
    "                   recursive = True)\n",
    "for file in files:\n",
    "    file = file.replace('\\\\','/')\n",
    "    # print(file)\n",
    "    # img = cv2.imread(file)\n",
    "    # print(img.shape)\n",
    "    test_image = Image.open(file)\n",
    "    new_image = make_square(test_image)\n",
    "    # dim = (3072, 4096)\n",
    "    # resized = cv2.resize(img, dim, interpolation = cv2.INTER_AREA)\n",
    "    new_image.save(file)\n"
   ]
  },
  {
   "cell_type": "code",
   "execution_count": null,
   "metadata": {},
   "outputs": [],
   "source": [
    "test_image = Image.open('hLarp.png')\n",
    "new_image = make_square(test_image)\n",
    "new_image.show()"
   ]
  }
 ],
 "metadata": {
  "kernelspec": {
   "display_name": "Python 3.9.7 ('base')",
   "language": "python",
   "name": "python3"
  },
  "language_info": {
   "codemirror_mode": {
    "name": "ipython",
    "version": 3
   },
   "file_extension": ".py",
   "mimetype": "text/x-python",
   "name": "python",
   "nbconvert_exporter": "python",
   "pygments_lexer": "ipython3",
   "version": "3.9.7"
  },
  "orig_nbformat": 4,
  "vscode": {
   "interpreter": {
    "hash": "136ac6390a149cc93e6470a8f7f2b930c2fa00ca17cae58650efc746ba1de66d"
   }
  }
 },
 "nbformat": 4,
 "nbformat_minor": 2
}
